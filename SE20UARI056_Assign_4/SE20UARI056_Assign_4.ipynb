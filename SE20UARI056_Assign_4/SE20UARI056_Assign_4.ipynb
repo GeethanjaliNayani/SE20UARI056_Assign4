{
  "nbformat": 4,
  "nbformat_minor": 0,
  "metadata": {
    "colab": {
      "provenance": []
    },
    "kernelspec": {
      "name": "python3",
      "display_name": "Python 3"
    },
    "language_info": {
      "name": "python"
    }
  },
  "cells": [
    {
      "cell_type": "code",
      "execution_count": 1,
      "metadata": {
        "id": "U57Z2tzbSa1N"
      },
      "outputs": [],
      "source": [
        "def FCFS(processes):\n",
        "    n = len(processes)\n",
        "    wt = [0] * n\n",
        "    tat = [0] * n\n",
        "    completion_time = processes[0]['arrival_time']\n",
        "    for i in range(n):\n",
        "        if completion_time < processes[i]['arrival_time']:\n",
        "            completion_time = processes[i]['arrival_time']\n",
        "        wt[i] = completion_time - processes[i]['arrival_time']\n",
        "        completion_time += processes[i]['burst_time']\n",
        "        tat[i] = wt[i] + processes[i]['burst_time']\n",
        "    return wt, tat\n"
      ]
    },
    {
      "cell_type": "code",
      "source": [
        "def SJF(processes):\n",
        "    n = len(processes)\n",
        "    wt = [0] * n\n",
        "    tat = [0] * n\n",
        "    processes_sorted = sorted(processes, key=lambda x: (x['burst_time'], x['arrival_time']))\n",
        "    completion_time = processes_sorted[0]['arrival_time']\n",
        "    for i in range(n):\n",
        "        if completion_time < processes_sorted[i]['arrival_time']:\n",
        "            completion_time = processes_sorted[i]['arrival_time']\n",
        "        wt[processes.index(processes_sorted[i])] = completion_time - processes_sorted[i]['arrival_time']\n",
        "        completion_time += processes_sorted[i]['burst_time']\n",
        "        tat[processes.index(processes_sorted[i])] = wt[processes.index(processes_sorted[i])] + processes_sorted[i]['burst_time']\n",
        "    return wt, tat\n"
      ],
      "metadata": {
        "id": "09aD1upRSbrF"
      },
      "execution_count": 2,
      "outputs": []
    },
    {
      "cell_type": "code",
      "source": [
        "def PS(processes):\n",
        "    n = len(processes)\n",
        "    wt = [0] * n\n",
        "    tat = [0] * n\n",
        "    processes_sorted = sorted(processes, key=lambda x: (x['priority'], x['arrival_time']))\n",
        "    completion_time = processes_sorted[0]['arrival_time']\n",
        "    for i in range(n):\n",
        "        if completion_time < processes_sorted[i]['arrival_time']:\n",
        "            completion_time = processes_sorted[i]['arrival_time']\n",
        "        wt[processes.index(processes_sorted[i])] = completion_time - processes_sorted[i]['arrival_time']\n",
        "        completion_time += processes_sorted[i]['burst_time']\n",
        "        tat[processes.index(processes_sorted[i])] = wt[processes.index(processes_sorted[i])] + processes_sorted[i]['burst_time']\n",
        "    return wt, tat\n"
      ],
      "metadata": {
        "id": "d-GxyLguSd_N"
      },
      "execution_count": 3,
      "outputs": []
    },
    {
      "cell_type": "code",
      "source": [
        "processes = [\n",
        "    {\"name\": \"A\", \"arrival_time\": 0, \"burst_time\": 30, \"priority\": 3},\n",
        "    {\"name\": \"B\", \"arrival_time\": 10, \"burst_time\": 20, \"priority\": 1},\n",
        "    {\"name\": \"C\", \"arrival_time\": 15, \"burst_time\": 40, \"priority\": 4},\n",
        "    {\"name\": \"D\", \"arrival_time\": 20, \"burst_time\": 15, \"priority\": 2}\n",
        "\n",
        "]"
      ],
      "metadata": {
        "id": "7AVfHP5mSiP3"
      },
      "execution_count": 4,
      "outputs": []
    },
    {
      "cell_type": "code",
      "source": [
        "print(\"FCFS:\", FCFS(processes))\n",
        "print(\"SJF:\", SJF(processes))\n",
        "print(\"PS:\", PS(processes))"
      ],
      "metadata": {
        "colab": {
          "base_uri": "https://localhost:8080/"
        },
        "id": "RkjJlrRKUXl0",
        "outputId": "815905a2-77e4-4c09-d57c-04892e001795"
      },
      "execution_count": 10,
      "outputs": [
        {
          "output_type": "stream",
          "name": "stdout",
          "text": [
            "FCFS: ([0, 20, 35, 70], [30, 40, 75, 85])\n",
            "SJF: ([55, 25, 70, 0], [85, 45, 110, 15])\n",
            "PS: ([45, 0, 60, 10], [75, 20, 100, 25])\n"
          ]
        }
      ]
    },
    {
      "cell_type": "code",
      "source": [
        "def average_time(times):\n",
        "    return sum(times) / len(times)\n",
        "\n"
      ],
      "metadata": {
        "id": "ZmT0z7zRUDk_"
      },
      "execution_count": 11,
      "outputs": []
    },
    {
      "cell_type": "code",
      "source": [
        "\n",
        "fcfs_wt_avg = average_time([0, 20, 35, 70])\n",
        "print(\"FCFS_WT:\", fcfs_wt_avg)\n",
        "fcfs_tat_avg = average_time([30, 40, 75, 85])\n",
        "print(\"FCFS_TAT:\", fcfs_tat_avg)\n"
      ],
      "metadata": {
        "colab": {
          "base_uri": "https://localhost:8080/"
        },
        "id": "siyKJYzcUGxL",
        "outputId": "459c21c7-c34b-4d21-aeea-8965acafd5c3"
      },
      "execution_count": 12,
      "outputs": [
        {
          "output_type": "stream",
          "name": "stdout",
          "text": [
            "FCFS_WT: 31.25\n",
            "FCFS_TAT: 57.5\n"
          ]
        }
      ]
    },
    {
      "cell_type": "code",
      "source": [
        "\n",
        "SJF_wt_avg = average_time([55, 25, 70, 0])\n",
        "print(\"SJF_WT:\", SJF_wt_avg)\n",
        "SJF_tat_avg = average_time([85, 45, 110, 15])\n",
        "print(\"SJF_TAT:\", SJF_tat_avg)\n",
        "\n"
      ],
      "metadata": {
        "colab": {
          "base_uri": "https://localhost:8080/"
        },
        "id": "ouxEl9BxUIkA",
        "outputId": "d6ccfc19-b7e2-498b-8865-f8b4a6c415f2"
      },
      "execution_count": 13,
      "outputs": [
        {
          "output_type": "stream",
          "name": "stdout",
          "text": [
            "SJF_WT: 37.5\n",
            "SJF_TAT: 63.75\n"
          ]
        }
      ]
    },
    {
      "cell_type": "code",
      "source": [
        "ps_wt_avg = average_time([45, 0, 60, 10])\n",
        "print(\"PS_WT:\", ps_wt_avg)\n",
        "ps_tat_avg = average_time([75, 20, 100, 25])\n",
        "print(\"PS_TAT:\", ps_tat_avg)\n",
        "\n"
      ],
      "metadata": {
        "colab": {
          "base_uri": "https://localhost:8080/"
        },
        "id": "tB3Mm2CtUMQY",
        "outputId": "4037345b-97c5-4ea7-af83-c894ba2059d3"
      },
      "execution_count": 14,
      "outputs": [
        {
          "output_type": "stream",
          "name": "stdout",
          "text": [
            "PS_WT: 28.75\n",
            "PS_TAT: 55.0\n"
          ]
        }
      ]
    },
    {
      "cell_type": "code",
      "source": [],
      "metadata": {
        "id": "vVmwJKweUPlj"
      },
      "execution_count": null,
      "outputs": []
    }
  ]
}